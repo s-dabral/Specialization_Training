{
  "nbformat": 4,
  "nbformat_minor": 0,
  "metadata": {
    "colab": {
      "provenance": [],
      "authorship_tag": "ABX9TyMuqLF7/tlL/XxFnpFhHJhH",
      "include_colab_link": true
    },
    "kernelspec": {
      "name": "python3",
      "display_name": "Python 3"
    },
    "language_info": {
      "name": "python"
    }
  },
  "cells": [
    {
      "cell_type": "markdown",
      "metadata": {
        "id": "view-in-github",
        "colab_type": "text"
      },
      "source": [
        "<a href=\"https://colab.research.google.com/github/s-dabral/Specialization_Training/blob/main/Placeholders.ipynb\" target=\"_parent\"><img src=\"https://colab.research.google.com/assets/colab-badge.svg\" alt=\"Open In Colab\"/></a>"
      ]
    },
    {
      "cell_type": "code",
      "execution_count": 8,
      "metadata": {
        "colab": {
          "base_uri": "https://localhost:8080/"
        },
        "id": "OmOQKkfL2oiR",
        "outputId": "b7aadd74-6308-4795-959b-54971638d90d"
      },
      "outputs": [
        {
          "output_type": "stream",
          "name": "stderr",
          "text": [
            "WARNING:tensorflow:From /usr/local/lib/python3.10/dist-packages/tensorflow/python/compat/v2_compat.py:108: disable_resource_variables (from tensorflow.python.ops.variable_scope) is deprecated and will be removed in a future version.\n",
            "Instructions for updating:\n",
            "non-resource variables are not supported in the long term\n"
          ]
        },
        {
          "output_type": "stream",
          "name": "stdout",
          "text": [
            "[[3 6 9]\n",
            " [2 4 6]\n",
            " [1 2 3]]\n"
          ]
        }
      ],
      "source": [
        "# importing tensorflow\n",
        "import tensorflow.compat.v1 as tf\n",
        "tf.disable_v2_behavior()\n",
        "\n",
        "# creating nodes in computation graph\n",
        "a = tf.placeholder(tf.int32, shape=(3,1))\n",
        "b = tf.placeholder(tf.int32, shape=(1,3))\n",
        "c = tf.matmul(a,b)\n",
        "\n",
        "# running computation graph\n",
        "with tf.Session() as sess:\n",
        "\tprint(sess.run(c, feed_dict={a:[[3],[2],[1]], b:[[1,2,3]]}))"
      ]
    }
  ]
}